{
 "cells": [
  {
   "cell_type": "markdown",
   "id": "51843b62-1cf9-404d-893b-8db982ae8057",
   "metadata": {},
   "source": [
    "1ans:"
   ]
  },
  {
   "cell_type": "markdown",
   "id": "d7cbd679-a0f0-45eb-9de3-dd56053915cd",
   "metadata": {},
   "source": [
    "Both t-tests and z-tests are statistical tests used to determine if there is a significant difference between two sample means, but they differ in their assumptions and the situations in which they are used.\n",
    "\n",
    "A t-test is used when the sample size is small (less than 30) or when the population standard deviation is unknown. In contrast, a z-test is used when the sample size is large (greater than or equal to 30) or when the population standard deviation is known.\n",
    "\n",
    "For example, suppose you want to test if the mean height of a sample of 20 individuals is significantly different from the mean height of the population. Since the sample size is small, you would use a t-test to determine if the difference is statistically significant.\n",
    "\n",
    "On the other hand, suppose you want to test if the mean weight of a sample of 500 individuals is significantly different from the mean weight of the population, and you know the population standard deviation. Since the sample size is large, you would use a z-test to determine if the difference is statistically significant."
   ]
  },
  {
   "cell_type": "markdown",
   "id": "223811cf-7d0c-46f0-9baf-5cbd38991c67",
   "metadata": {},
   "source": [
    "2ans:\n",
    "\n",
    "There are two types of hypothesis tests: one-tailed tests and two-tailed tests.\n",
    "\n",
    "A one-tailed test (also known as a directional test) is used when the alternative hypothesis specifies the direction of the expected difference between the sample and the population. In other words, it tests whether the population parameter is greater than or less than a certain value. The critical region for a one-tailed test is located entirely in one tail of the distribution.\n",
    "\n",
    "a two-tailed test (also known as a non-directional test) is used when the alternative hypothesis specifies that the population parameter is different from a certain value, without specifying whether it is greater or less than that value. The critical region for a two-tailed test is located in both tails of the distribution.\n"
   ]
  },
  {
   "cell_type": "markdown",
   "id": "e581086c-51f2-401c-856b-ec5d45e8fea1",
   "metadata": {},
   "source": [
    "3ans:\n",
    "\n",
    "Type 1 error occurs when we reject the null hypothesis when it is actually true. In other words, we conclude that there is a significant difference between the sample and the population, even though there is no actual difference. Type 1 error is also called a false positive.\n",
    "\n",
    "For example, let's say a pharmaceutical company is testing a new drug to see if it lowers blood pressure. They set the significance level at 0.05, which means there is a 5% chance of making a Type 1 error. If the company concludes that the drug is effective in lowering blood pressure when it is not, this would be a Type 1 error.\n",
    "\n",
    "Type 2 error occurs when we fail to reject the null hypothesis when it is actually false. In other words, we conclude that there is no significant difference between the sample and the population, even though there is an actual difference. Type 2 error is also called a false negative.\n",
    "\n",
    "For example, let's say a school district is investigating whether a new teaching method improves test scores. They set the significance level at 0.05, which means there is a 5% chance of making a Type 2 error. If the district concludes that the new teaching method is not effective when it actually does improve test scores, this would be a Type 2 erro\n"
   ]
  },
  {
   "cell_type": "markdown",
   "id": "66532b59-f604-4664-a0eb-ee68d629922e",
   "metadata": {},
   "source": [
    "4ans:\n",
    "\n",
    "Bayes's theorem states that the probability of a hypothesis (H) given the observed evidence (E) is equal to the probability of the evidence given the hypothesis multiplied by the prior probability of the hypothesis, divided by the probability of the evidence. This can be written as:\n",
    "\n",
    "P(H|E) = P(E|H) * P(H) / P(E)\n",
    "\n",
    "Here's an example to illustrate Bayes's theorem:\n",
    "\n",
    "Suppose a medical test is used to detect a disease that occurs in 1% of the population. The test is 95% accurate, which means it correctly identifies the disease in 95% of cases and gives a false positive in 5% of cases. If a person tests positive for the disease, what is the probability that they actually have the disease?\n",
    "\n",
    "P(H|E) = P(E|H) * P(H) / P(E)\n",
    "\n",
    "P(H) = 0.01 (prior probability of the disease occurring in the population)\n",
    "P(E|H) = 0.95 (likelihood of testing positive given that the person has the disease)\n",
    "P(E) = P(E|H) * P(H) + P(E|~H) * P(~H)\n",
    "= 0.95 * 0.01 + 0.05 * 0.99 = 0.0585 (total probability of testing positive)\n",
    "\n",
    "Substituting these values, we get:\n",
    "\n",
    "P(H|E) = 0.95 * 0.01 / 0.0585 = 0.1624"
   ]
  },
  {
   "cell_type": "markdown",
   "id": "17ec0f3d-89ee-4c9b-a5be-2761c6b6c675",
   "metadata": {},
   "source": [
    "5ans:\n",
    "\n",
    "A confidence interval is a statistical range of values that is likely to contain an unknown population parameter with a certain level of confidence. It is a way of quantifying the uncertainty around a point estimate of a population parameter, such as a mean or a proportion.\n",
    "\n",
    "To calculate a confidence interval, we first need to determine the sample mean and sample standard deviation (or sample proportion, if we are dealing with proportions). We also need to choose a confidence level, which is the probability that the interval will contain the true population parameter. The most commonly used confidence levels are 90%, 95%, and 99%.\n",
    "\n",
    "The formula for calculating a confidence interval for a population mean is:\n",
    "\n",
    "Confidence interval = sample mean ± (t-value x standard error)\n",
    "\n",
    "For example, suppose we want to calculate a 95% confidence interval for the population mean weight of all apples produced by a farm. We randomly select a sample of 50 apples and measure their weights, obtaining a sample mean of 200 grams and a sample standard deviation of 20 grams. We choose a t-value of 2.009 (obtained from a t-distribution table with df = 49 and a 95% confidence level). The standard error is calculated as:\n",
    "\n",
    "standard error = 20 / sqrt(50) = 2.83\n",
    "\n",
    "Substituting these values into the formula, we get:\n",
    "\n",
    "Confidence interval = 200 ± (2.009 x 2.83) = (194.02, 205.98)\n",
    "\n",
    "This means that we can be 95% confident that the true population mean weight of apples produced by the farm falls between 194.02 grams and 205.98 grams."
   ]
  },
  {
   "cell_type": "markdown",
   "id": "2098c101-bbfa-404f-a520-ab80c29f2fa8",
   "metadata": {},
   "source": [
    "6ans:\n",
    "\n",
    "For example, let's say we are interested in the probability of a person having a certain genetic disorder, which is known to affect 1 in 1000 people in the general population. We also know that there is a genetic test for the disorder that has a false positive rate of 5% (i.e., it incorrectly identifies 5% of non-carriers as carriers) and a false negative rate of 1% (i.e., it incorrectly identifies 1% of carriers as non-carriers).\n",
    "\n",
    "Suppose a person takes the test and tests positive for the disorder. What is the probability that the person actually has the disorder?\n",
    "\n",
    "We can use Bayes' Theorem to update our prior belief about the probability of the person having the disorder given the positive test result. Let's define the following events:\n",
    "\n",
    "A: the person has the genetic disorder\n",
    "B: the person tests positive for the disorder\n",
    "Then, we can apply Bayes' Theorem as follows:\n",
    "\n",
    "P(A|B) = P(B|A) * P(A) / P(B)\n",
    "\n",
    "We know that P(A) = 1/1000 and P(B|A) = 1 - 0.01 = 0.99 (the probability of testing positive given that the person actually has the disorder). To find P(B), we need to consider the probabilities of two possible scenarios:\n",
    "\n",
    "The person has the disorder and tests positive: P(A and B) = P(A) * P(B|A) = (1/1000) * 0.99 = 0.00099\n",
    "The person does not have the disorder but tests positive (false positive): P(not A and B) = P(not A) * P(B|not A) = (999/1000) * 0.05 = 0.04995\n",
    "So, the total probability of testing positive is:\n",
    "\n",
    "P(B) = P(A and B) + P(not A and B) = 0.00099 + 0.04995 = 0.05094\n",
    "\n",
    "Now we can calculate the probability of actually having the disorder given a positive test result:\n",
    "\n",
    "P(A|B) = P(B|A) * P(A) / P(B) = 0.99 * (1/1000) / 0.05094 = 0.019\n"
   ]
  },
  {
   "cell_type": "markdown",
   "id": "1b743ff3-ff4e-4524-950a-2e614852d600",
   "metadata": {},
   "source": [
    "7ans:\n",
    "    \n",
    " To calculate the 95% confidence interval for a sample of data with a mean of 50 and a standard deviation of 5, we can use the following formula:\n",
    "\n",
    "95% confidence interval = sample mean ± (1.96 x standard error)\n",
    "\n",
    "where the standard error is calculated as:\n",
    "\n",
    "standard error = standard deviation / sqrt(sample size)\n",
    "\n",
    "Substituting the given values into the formula, we get:\n",
    "\n",
    "95% confidence interval = 50 ± (1.96 x 5 / sqrt(sample size))\n",
    "\n",
    "We don't know the sample size, so we can't calculate the exact confidence interval. However, we can provide a range of possible values based on different sample sizes. For example, if the sample size is 25, then:\n",
    "\n",
    "95% confidence interval = 50 ± (1.96 x 5 / sqrt(25)) = (47.02, 52.98)\n",
    "\n",
    "This means that we can be 95% confident that the true population mean falls between 47.02 and 52.98. In other words, if we were to repeat the sampling process many times and calculate the confidence interval each time, we would expect 95% of the intervals to contain the true population mean.\n",
    "\n",
    "Interpreting the results, we can say that the sample mean of 50 is likely to be a good estimate of the true population mean, with a 95% degree of confidence. The interval (47.02, 52.98) represents the range of values within which the true population mean is likely to lie, based on the sample data. This information can be useful for making inferences or decisions about the population, such as setting a target value for a quality control parameter or evaluating the effectiveness of a treatment.\n",
    "\n",
    "\n",
    "\n",
    "\n",
    "\n"
   ]
  },
  {
   "cell_type": "markdown",
   "id": "cec95ed4-7bd7-42c2-9142-641c1a967419",
   "metadata": {},
   "source": [
    "8ans:"
   ]
  },
  {
   "cell_type": "markdown",
   "id": "74c014e5-4816-415d-98cb-829c4b8d1b1e",
   "metadata": {},
   "source": [
    "The margin of error is a measure of the precision or accuracy of a confidence interval. It represents the maximum amount by which the sample estimate may differ from the true population parameter. In other words, the margin of error is the range of values around the sample estimate within which the true population value is likely to lie with a certain degree of confidence.\n",
    "\n",
    "The margin of error is affected by several factors, including the sample size, the level of confidence, and the variability of the data. Generally, a larger sample size leads to a smaller margin of error, while a smaller sample size leads to a larger margin of error. This is because larger samples are more representative of the population and tend to produce more accurate estimates of the population parameter.\n",
    "\n",
    "For example, suppose we want to estimate the proportion of people in a city who support a new policy initiative. We conduct a survey of 200 randomly selected individuals and find that 60% of them support the initiative. We want to construct a 95% confidence interval for the true proportion of supporters in the population.\n",
    "\n",
    "Using the formula for the margin of error for a proportion, we get:\n",
    "\n",
    "margin of error = 1.96 * sqrt(p * (1 - p) / n)\n",
    "\n",
    "where p is the sample proportion and n is the sample size.\n",
    "\n",
    "Substituting the given values, we get:\n",
    "\n",
    "margin of error = 1.96 * sqrt(0.6 * 0.4 / 200) = 0.079\n",
    "\n",
    "Therefore, the 95% confidence interval for the proportion of supporters in the population is:\n",
    "\n",
    "0.6 ± 0.079, or (0.521, 0.679)\n",
    "\n",
    "Now, suppose we repeat the survey with a larger sample size of 1000 individuals. Using the same formula, we get:\n",
    "\n",
    "margin of error = 1.96 * sqrt(0.6 * 0.4 / 1000) = 0.027\n",
    "\n",
    "Therefore, the 95% confidence interval for the proportion of supporters in the population is:\n",
    "\n",
    "0.6 ± 0.027, or (0.573, 0.627)\n",
    "\n",
    "We can see that the margin of error is smaller with a larger sample size."
   ]
  },
  {
   "cell_type": "markdown",
   "id": "2ad9de3c-ed6c-430b-bc85-d76b5f553d2a",
   "metadata": {},
   "source": [
    "9ans:\n",
    "\n",
    "he formula for calculating the z-score is:\n",
    "\n",
    "z = (x - μ) / σ\n",
    "\n",
    "where x is the value of the data point, μ is the population mean, and σ is the population standard deviation.\n",
    "\n",
    "Plugging in the values given in the question, we get:\n",
    "\n",
    "z = (75 - 70) / 5\n",
    "z = 1\n",
    "\n",
    "Interpretation: The z-score of 1 means that the data point of 75 is one standard deviation above the population mean of 70. This indicates that the data point is relatively higher than the average of the population."
   ]
  },
  {
   "cell_type": "markdown",
   "id": "83207c7f-30f2-4c46-9758-8755c3f2c47d",
   "metadata": {},
   "source": [
    "10ans:\n",
    "\n",
    "To conduct the hypothesis test, we need to set up the null and alternative hypotheses:\n",
    "\n",
    "Null hypothesis: The weight loss drug is not significantly effective, and the average weight loss in the population is equal to or less than 0 pounds.\n",
    "\n",
    "Alternative hypothesis: The weight loss drug is significantly effective, and the average weight loss in the population is greater than 0 pounds.\n",
    "\n",
    "Next, we need to calculate the test statistic (t-value) using the formula:\n",
    "\n",
    "t = (x̄ - μ) / (s / √n)\n",
    "\n",
    "where x̄ is the sample mean, μ is the hypothesized population mean (0 pounds), s is the sample standard deviation, and n is the sample size.\n",
    "\n",
    "Plugging in the values given in the question, we get:\n",
    "\n",
    "t = (6 - 0) / (2.5 / √50)\n",
    "t = 18.97\n",
    "\n",
    "We can look up the critical t-value from the t-distribution table with degrees of freedom (df) = n - 1 = 49 and a significance level of 0.05 (one-tailed test), which gives us a critical t-value of 1.677.\n",
    "\n",
    "Since our calculated t-value (18.97) is greater than the critical t-value (1.677), we can reject the null hypothesis and conclude that the weight loss drug is significantly effective at a 95% confidence level.\n",
    "\n",
    "In other words, the sample data provides strong evidence to suggest that the weight loss drug leads to a significant average weight loss in the population."
   ]
  },
  {
   "cell_type": "markdown",
   "id": "e0068852-30be-4e36-a7d9-cb0f7f7cb1fc",
   "metadata": {},
   "source": [
    "11ans:\n",
    "\n",
    "To calculate the 95% confidence interval for the true proportion of people who are satisfied with their job, we can use the formula:\n",
    "\n",
    "CI = x̄ ± z*(σ/√n)\n",
    "\n",
    "where x̄ is the sample proportion (0.65), z is the critical z-value for a 95% confidence level (1.96), σ is the standard deviation of the sample proportion (σ = √(p*q/n)), where p is the sample proportion and q = 1 - p, and n is the sample size.\n",
    "\n",
    "Plugging in the values given in the question, we get:\n",
    "\n",
    "σ = √(pq/n) = √(0.650.35/500) = 0.032\n",
    "\n",
    "CI = 0.65 ± 1.96*(0.032/√500) = 0.65 ± 0.04\n",
    "\n",
    "Therefore, the 95% confidence interval for the true proportion of people who are satisfied with their job is (0.61, 0.69).\n",
    "\n",
    "Interpretation: We can be 95% confident that the true proportion of people who are satisfied with their job is between 0.61 and 0.69."
   ]
  },
  {
   "cell_type": "markdown",
   "id": "fecc9401-d0e0-48b4-8f4d-0f083af74790",
   "metadata": {},
   "source": [
    "12ans:\n",
    "\n",
    "we need to calculate the test statistic (t-value) using the formula:\n",
    "\n",
    "t = (x̄A - x̄B) / √[(sA^2/nA) + (sB^2/nB)]\n",
    "\n",
    "where x̄A and x̄B are the sample means, sA and sB are the sample standard deviations, and nA and nB are the sample sizes.\n",
    "\n",
    "Plugging in the values given in the question, we get:\n",
    "\n",
    "t = (85 - 82) / √[(6^2/50) + (5^2/50)]\n",
    "t = 1.87\n",
    "\n",
    "We can look up the critical t-value from the t-distribution table with degrees of freedom (df) = nA + nB - 2 = 98 and a significance level of 0.01 (two-tailed test), which gives us a critical t-value of ±2.614.\n",
    "\n",
    "Since our calculated t-value (1.87) falls within the acceptance region (-2.614 < t < 2.614), we fail to reject the null hypothesis and conclude that there is no significant difference in student performance between the two teaching methods at a 99% confidence level.\n",
    "\n",
    "In other words, the sample data does not provide strong evidence to suggest that the mean score in population A is significantly different from the mean score in population B."
   ]
  },
  {
   "cell_type": "markdown",
   "id": "4b18e102-e425-4845-abe7-43ad39dd29f6",
   "metadata": {},
   "source": [
    "13ans:"
   ]
  },
  {
   "cell_type": "markdown",
   "id": "bceefd24-3048-4c06-a746-12c7c5b4b2d1",
   "metadata": {},
   "source": [
    "To calculate the 90% confidence interval for the true population mean, we can use the formula:\n",
    "\n",
    "CI = x̄ ± z*(σ/√n)\n",
    "\n",
    "where x̄ is the sample mean (65), z is the critical z-value for a 90% confidence level (1.645), σ is the population standard deviation (8), and n is the sample size (50).\n",
    "\n",
    "Plugging in the values given in the question, we get:\n",
    "\n",
    "CI = 65 ± 1.645*(8/√50)\n",
    "\n",
    "CI = 65 ± 2.68\n",
    "\n",
    "Therefore, the 90% confidence interval for the true population mean is (62.32, 67.68).\n",
    "\n",
    "Interpretation: We can be 90% confident that the true population mean is between 62.32 and 67.68."
   ]
  },
  {
   "cell_type": "markdown",
   "id": "9b912e20-3687-4057-a8a6-33f6c6436570",
   "metadata": {},
   "source": [
    "14ans:\n",
    "\n"
   ]
  }
 ],
 "metadata": {
  "kernelspec": {
   "display_name": "Python 3 (ipykernel)",
   "language": "python",
   "name": "python3"
  },
  "language_info": {
   "codemirror_mode": {
    "name": "ipython",
    "version": 3
   },
   "file_extension": ".py",
   "mimetype": "text/x-python",
   "name": "python",
   "nbconvert_exporter": "python",
   "pygments_lexer": "ipython3",
   "version": "3.10.8"
  }
 },
 "nbformat": 4,
 "nbformat_minor": 5
}
